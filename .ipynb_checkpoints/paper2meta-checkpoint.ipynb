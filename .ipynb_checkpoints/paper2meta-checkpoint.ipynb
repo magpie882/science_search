{
 "cells": [
  {
   "cell_type": "code",
   "execution_count": 3,
   "metadata": {
    "collapsed": true
   },
   "outputs": [],
   "source": [
    "'''\n",
    "Ensure pdfminer is install\n",
    "'''\n",
    "try:\n",
    "    import pdfminer\n",
    "except ImportError:\n",
    "    install_pdfminer = input('You do not have pdfminer install. Type Yes to install using pip. Other just click Enter')\n",
    "    if install_pdfminer == 'Yes':\n",
    "        import pip\n",
    "        pip.main(['install','pdfminer'])"
   ]
  },
  {
   "cell_type": "code",
   "execution_count": 151,
   "metadata": {},
   "outputs": [],
   "source": [
    "import pandas\n",
    "import re\n",
    "from cStringIO import StringIO\n",
    "from pdfminer.pdfinterp import PDFResourceManager, PDFPageInterpreter\n",
    "from pdfminer.converter import TextConverter\n",
    "from pdfminer.layout import LAParams\n",
    "from pdfminer.pdfpage import PDFPage\n",
    "\n",
    "def convert(fname, pages=None):\n",
    "    if not pages:\n",
    "        pagenums = set()\n",
    "    else:\n",
    "        pagenums = set(pages)\n",
    "\n",
    "    output = StringIO()\n",
    "    manager = PDFResourceManager()\n",
    "    converter = TextConverter(manager, output, laparams=LAParams())\n",
    "    interpreter = PDFPageInterpreter(manager, converter)\n",
    "\n",
    "    infile = file(fname, 'rb')\n",
    "    for page in PDFPage.get_pages(infile, pagenums):\n",
    "        interpreter.process_page(page)\n",
    "    infile.close()\n",
    "    converter.close()\n",
    "    text = output.getvalue()\n",
    "    output.close\n",
    "    return text \n",
    "\n",
    "def cleanUp(convertedString):\n",
    "    convertedString = re.sub('\\n','',convertedString)\n",
    "    convertedString = re.sub(r'\\[Crossref]','',convertedString)\n",
    "    convertedString = re.sub(r'  ',' ',convertedString)\n",
    "    return convertedString\n",
    "\n",
    "def paperSplitter(convertedString):\n",
    "    convertedString = convertedString.lower()\n",
    "    portioned_paper = []\n",
    "    \n",
    "    if re.search('materials', convertedString):\n",
    "        intString = re.split('materials', convertedString)\n",
    "        portioned_paper.append(('Start', intString[0]))\n",
    "    \n",
    "    if re.search('materials and methods', convertedString):\n",
    "        if re.search('materials and methods', convertedString) and re.search('results', convertedString):    \n",
    "            intString = re.split('materials and methods', convertedString)\n",
    "            intString = re.split('results', intString[-1])\n",
    "            portioned_paper.append(('Materials & Methods', intString[0]))\n",
    "\n",
    "    elif re.search('materials', convertedString):\n",
    "        if re.search('materials', convertedString) and re.search('methods', convertedString):     \n",
    "            intString = re.split('materials', convertedString)\n",
    "            intString = re.split('methods', intString[-1])\n",
    "            portioned_paper.append(('Materials', intString[0]))\n",
    "                \n",
    "        if re.search('methods', convertedString) and re.search('results', convertedString):    \n",
    "            intString = re.split('methods', convertedString)\n",
    "            intString = re.split('results', intString[-1])\n",
    "            portioned_paper.append(('Methods', intString[0]))\n",
    "    \n",
    "    if re.search('results', convertedString) and re.search('discussion', convertedString):    \n",
    "        intString = re.split('results', convertedString)\n",
    "        intString = re.split('discussion', intString[-1])\n",
    "        portioned_paper.append(('Results', intString[0]))\n",
    "    \n",
    "    if re.search('discussion', convertedString) and re.search('conclusions', convertedString):\n",
    "        intString = re.split('discussion', convertedString)\n",
    "        intString = re.split('conclusions', intString[-1])\n",
    "        portioned_paper.append(('Discussion', intString[0]))\n",
    "        convertedString = convertedString[1]\n",
    "    \n",
    "    if re.search('conclusions', convertedString) and re.search('acknowledgments', convertedString):\n",
    "        intString = re.split('conclusions', convertedString)\n",
    "        intString = re.split('acknowledgments', intString[-1])\n",
    "        portioned_paper.append(('Conclusions', intString[0]))\n",
    "        convertedString = convertedString[1]\n",
    "    \n",
    "    if re.search('acknowledgments', convertedString):\n",
    "        intString = re.split('acknowledgments', convertedString)\n",
    "        portioned_paper.append(('Acknowledgments', intString[1]))\n",
    "    return portioned_paper"
   ]
  },
  {
   "cell_type": "code",
   "execution_count": 145,
   "metadata": {},
   "outputs": [],
   "source": [
    "pdf_as_string = cleanUp(convert('Papers/cjps81-035.pdf'))"
   ]
  },
  {
   "cell_type": "code",
   "execution_count": 146,
   "metadata": {},
   "outputs": [
    {
     "data": {
      "text/plain": [
       "<_sre.SRE_Match at 0x10b0bbbf8>"
      ]
     },
     "execution_count": 146,
     "metadata": {},
     "output_type": "execute_result"
    }
   ],
   "source": [
    "re.search('materials and methods',pdf_as_string.lower())"
   ]
  },
  {
   "cell_type": "code",
   "execution_count": 152,
   "metadata": {},
   "outputs": [
    {
     "data": {
      "text/plain": [
       "[('Start',\n",
       "  \"effect of salinity on rhizobium-root.hairinteraction, nodulation and growth of soybeanj. c. turesearch station, agriculture canada, harrow, ontario n2r lg0. received1980, aacepted 20 oct. 1980.ll julytu' j. c. 198 i . effect of salinity on rhizobium-root-hair interaction, nodulationand growth ofsoybean. can. j. plant sci. 6l 231-239.the interaction of rhizobia with root-hairs in the rhizosphere of soybean wasinvestigated under saline concentrations of 0-1.87c. at loto nacl. roorhairsshowed little curling and deformation in response to rhizobial inoculation. at l.5vo orabove, shrinkage of root-hairs was cvident. the growth and multiplication of rhizobiadeclined rapidly when nacl concentrations were increased from 0.2 to 0.87o. athigher concentrations, rhizobial growth .vas minimal. nodulation was completelyeliminated at concentratio ns of 1 .2vc nacl or higher and increasing salinity caused igradual continuous decline in soybean fresh weight and plant height. the failure ofsoybean to nodulate at high salinity was attributed to decreased rhizobial colonizationand, at higher salinity, to shrinkage of root-hairs. tiris, the reduction in soybeangrowth under conditions of high salinity could only be partly accounted for by thereduction or failure in nodulation.on a 6tudi6 l'interaction cntre les ririz,rbiums et les radicelles du soja h desconcentratlons salines de o-1.87o dans la r'l zosph6ere. a la cose de lo/o de nacl, iesradicelles manifestent peu d'enroulement et de d6formation d i'inoculationrhizobienne. a l.5ak ou plus, on note un ratatinement du chevelu. la croissance et lamultiplication des rhizobiums diminuent rapidement lorsque les concentration denacl passent de 0.2 ir 0.87o, at delh desquelles la croisiance est minimale. lanodulation est complbtement supprimde d des teneurs de l.2vo ou plus eti'accroissement de la salinit6 provoque une baisse graduelle du poids frais et de lataille des plants. l'incapacit6 du soja de noduler d des concentrations salines 6lev6esest due i une baisse de la colonisation rhizobienne, et au ratatinement des radicelles ides teneurs en core plus fortes . la r6d uction de crois sance du soja en sol s halomorphesne pourrait donc que partiellement s'expliquer par la r6duction ou i'absence denodulation.' high soil salinity often occurs on irrigated around the roots. this high concentration ofland where mineral salts in irrigation water salts in the soil or irrigated lans could have aare deposited into the soil over a period of detrimental effect on plants.time. intensive cropping, which requires reduction in biomass and yield wasferlilizers, increases the problem. the correlated with increased soil ialinity inmajority of inigated land is composed of many plants (abel and mckenzie 1964;coarse-textured soil in which water move- gauch and wadleigh 1944; hayward andment is rapid. under these conditions wadleigh 1949). in legumes, such effectswater-soluble salts tend to accumulate at the appear to be greater, possibly owing to aroot-soil interface and in the rhizosphere. direct effect of salinity on nitrogen fixingriley and barber (1970) showed thaisalts, ability (munnsetal.lgjj). foreiample, iidissolved in the soil solution, moved to the pea and mungbean, increasing levels ofroot surface at a greater rate than the root nacl were associated with a decline in bothcould absorb them and were deposited nodulation and in nitrogen fixation ratescan.j.plantsci.6l:23r-239(aprillgsl) (steinborn androughley 1975).231can. j. plant sci. downloaded from www.nrcresearchpress.com by 217.33.169.98 on 10/17/17for personal use only. \\x0c232canadian journal of plant scienceenvironmental and ecological factors thataffect nodulation and nodule efficiency havebeen extensively investigated (nutman1958). however, the effects of soil salinityon nodulation have not received muchattention. tolerance limit of differentspecies of rhizobium to nacl varied widelyfrom 0.57o for rhizobia of glycine javanica(wilson and norris 1970), 0.50-0.127o forr. trifolii (pillai and sen 1966) and3toforr.meliloti (graham and parker 1964; moffettand colwell 1968; subba rao et al. 1972).similarly, different plant species also variedin their tolerance to salinity (abel andmckenzie 1964; gauch and spurr 1944;hayward and wadleigh 1949). therefore,each rhizobium-host combination should bestudied independently.the root-hair is the site of rhizobiuminfection. therefore, if the effect of salinityon nodulation is to be elucidated, investiga-tion should be focused on the interaction ofrhizobium and root-hairs. this paper reportsthe effect of various levels of salt on plantgrowth and nodule formation in soybeans.\"),\n",
       " ('Materials & Methods',\n",
       "  'greenhouse studyseeds of soybean (gb,cine rrax (l.) merr.\\'amsoy\\') were surface-sterilized in -5% sodiumhypochlorite for 5 min, rinsed with 70% ethanoland then with sterilized distilled water. threeseeds were sown in an 8-cm pot filled with whitesilica sand. rhizobia (rlizobium jctponicum)were added lo lhc sand at approrimately l0\\'rhizobia/cm3 sand. a total of 40 pots wcreprepared and divided into l0 groups. upongermination of the seeds, each group was wateredwith a modified hoagland solution (johnson ct al.1957) containing 0- i .8clo nacl. in increments ofq.2vc.each treatment had four replications whichwere completely randomized. free drainage wasprovided in the pots to maintain uniform saltconcentration. all potted plants wcre maintainedin acontrollcd environment at 2l + l\\'c with l4 hlight at an intensity of 26 klx at bench level.lighting was provided from cool-bcam fluores-cent lamps supplemented with incandescentbulbs.one month after sowing, all plants wereremoved from the pots, washed three times inwater and blotted dry on paper towels data on thenumber of root nodules, biomass, and height ofthe plants werc taken.the effect of salinity on rhizobium in vitroliquid yeast-mannitol (ym) mcdium (ham1963), 50 ml/flask, was prepared in triplicatceach with eleven 150-ml flasks. the salinity ofthe ym was adjusted with nacl from 0 to 1.8\"/o inincrements t:f 0.2vc . one millilitre of therhizobium suspension with an optical density(od) of 0.1 at 650 nm was added to each flask.after inoculation, the flasks were incubated in a2l + l\\'c gyrotory water-bath shaker (newbrunswick instruments, new brunswick, n.j.08903) for 24 h. the growth rate of r..iaponicumwas assessed by the change of od. readings ofod wcre performcd in a beckman spectronic-2ocolorimeter.interaction of rhizobium and root-hairin different saline concentrationssirteen pr)l\\\\ (rf su1 bcan were prepared asdescribed above at 0, i , i .-5 and2va salinity. theroot samples, i cm in lcngth, cut 2 cm below theroot base, were takcn daily for 9 days and fixedovernight in ,17c glutaraldehydc in 0. i mphosphate buff\\'er, ph 7.0. thc samples wcre thenwashed with several changes in the same bufferfor a total of 30 min, post-fixed in 27e osol fbr2 h and finally dehydrated through a gradedenthanol series. the samples were then passedthrough a graded series of enthanol-amyl acetateand critical-point-dried as described by boydeand wo,\\'rl ( 19691. the dried specimens weremounted, coatcd with c-au mixture andexamincd in a cambridge slereoscan 54 scanningelectron microscope (sem).'),\n",
       " ('Results',\n",
       "  ' thatreduction in nodulation contributes to areduction of plant growth; the extent of thisinteraction is not known. high salinitydecreases plant growth due to reduction inuptake of minerals and water (bernstein andogata 1966; sprent 1972); however, highsalinity may also inhibit nodule formation.therefore, the question of soybean growthunder saline conditions within rhizobialinterference should be further studies so thata more exact attribution can be assessedseparately against the reduction in nodula-tion and the reduction in uptake of nutrientand water.acknowledgments can. j. plant sci. downloaded from www.nrcresearchpress.com by 217.33.169.98 on 10/17/17for personal use only. \\x0ctu - effects of salinity on soybean239raggio, m. and raggio, n. 1962. rootnodules. ann. rev. plant physiol. 13: 109-128.riley, d. and barber, s. a. 1970. saltaccumulation at the soybean (glycine max (l.)merr.) root-soil interface. soil sci. soc. amer.proc. 34: 154-155.sprent, j. i. 1972. the effects of water stresson nitrogen fixing root nodules. iii. effects ofosmotically applied stress. new phytol.71:451 -460.steinborn, j. and roughley, r. j. 1915.toxicity of sodium and chloride ions torhizobium spp. in broth and peat culture. j. appl.bacteriol. 39: 133-138.subba rao, n. s., lakshmi.kumari,m., singh, c. s. and magu, s. p. 1972.nodulation of lucerne (medicago sativa l.)under the influence of sodium chloride. indian j.agric. sci. 42: 384-386.wilson, j r. andnorris, d. o. 1970. someeffects of salinity on glycine javanica and iisrhizobium symbiosis. proc. int. grassl. congr.1l:455-458.can. j. plant sci. downloaded from www.nrcresearchpress.com by 217.33.169.98 on 10/17/17for personal use only. \\x0cthis article has been cited by:1.salar farhangi-abriz, shahram torabian. 2017. biochar improved nodulation and nitrogenmetabolism of soybean under salt stress. symbiosis 38. . 2.yong song, takayuki nakajima, donghe xu, koki homma, makie kokubun. 2017. genotypicvariation in salinity tolerance and its association with nodulation and nitrogen uptake in soybean.plant production science 7, 1-9. 3.amaral machaculeha chibeba, stephen kyei-boahen, maria de f\\xc3\\xa1tima guimar\\xc3\\xa3es, marco antonionogueira, mariangela hungria. 2017. isolation, characterization and selection of indigenousbradyrhizobium strains with outstanding symbiotic performance to increase soybean yields inmozambique. agriculture, ecosystems & environment 246, 291-305. 4.sajid mahmood nadeem, muhammad yahya khan, muhammad rashid waqas, rana binyamin,sohail akhtar, zahir ahmad zahir. arbuscular mycorrhizas: an overview 1-24. 5.dilfuza egamberdieva, stephan wirth, dilfuza jabborova, leena a. r\\xc3\\xa4s\\xc3\\xa4nen, hong liao. 2017.coordination between bradyrhizobium and pseudomonas alleviates salt stress in soybean throughaltering root system architecture. journal of plant interactions 12:1, 100-107. 6.anita patil, ankit kale, gaurav ajane, rubina sheikh, surendra patil. plant growth-promotingrhizobium: mechanisms and biotechnological prospective 105-134. 7.samira r. mansour, khalid abdel-lateif, didier bogusz, claudine franche. 2016. influence of saltstress on inoculated casuarina glauca seedlings. symbiosis 70:1-3, 129-138. 8.neera garg, priyanka singla. 2016. stimulation of nitrogen fixation and trehalose biosynthesis bynaringenin (nar) and arbuscular mycorrhiza (am) in chickpea under salinity stress. plant growthregulation 80:1, 5-22. 9.mariama ngom, krystelle gray, nathalie diagne, rediet oshone, joel fardoux, hassen gherbi,val\\xc3\\xa9rie hocher, sergio svistoonoff, laurent laplaze, louis s. tisa, mame o. sy, antonychampion. 2016. symbiotic performance of diverse frankia strains on salt-stressed casuarinaglauca and casuarina equisetifolia plants. frontiers in plant science 7. . 10.sowmyalakshmi subramanian, emily ricci, alfred souleimanov, donald l. smith. 2016.a proteomic approach to lipo-chitooligosaccharide and thuricin 17 effects on soybeangerminationunstressed and salt stress. plos one 11:8, e0160660. 11.sihem tellah, mourad latati, mohamed lazali, naima ghalmi, ghania ounane, sidi mohamedounane, agostino sorgon\\xc3\\xa0, maurizio badiani. agricultural, socioeconomic, and cultural relevanceof crop wild relatives, in particular, food legume landraces, in northern africa 303-342. 12.m. miransari. use of biotechnology in soybean production under environmental stresses 1-22.13.g. yamal, ankita bidalia, krati vikram, k. s. rao. an insight into the legume\\xe2\\x80\\x93rhizobiuminteraction 359-384. 14.neha handa, renu bhardwaj, ashwani kumar thukral, saroj arora, sukhmeen kaur kohli,vandana gautam, tajinder kaur. gene pyramiding and omics approaches for stress tolerance inleguminous plants 265-283. 15.mohamed hemida abd-alla, abdel-wahab e. el-enany, magdy khalil bagy, shymaa ryhanbashandy. 2014. alleviating the inhibitory effect of salinity stress on nod gene expression incan. j. plant sci. downloaded from www.nrcresearchpress.com by 217.33.169.98 on 10/17/17for personal use only. \\x0crhizobium tibeticum \\xe2\\x80\\x93 fenugreek ( trigonella foenum graecum ) symbiosis by isoflavonoidstreatment. journal of plant interactions 9:1, 275-284. 16.i. egbichi, m. keyster, n. ludidi. 2014. effect of exogenous application of nitric oxide on saltstress responses of soybean. south african journal of botany 90, 131-136. 17.bas bruning, jelte rozema. 2013. symbiotic nitrogen fixation in legumes: perspectives for salineagriculture. environmental and experimental botany 92, 134-143. 18.m l\\xc3\\xb3pez-g\\xc3\\xb3mez, f palma, c lluch. strategies of salt tolerance in the rhizobia-legumesymbiosis 99-121. 19.b. guasch-vidal, j. est\\xc3\\xa9vez, m. s. dardanelli, m. e. soria-d\\xc3\\xadaz, f. fern\\xc3\\xa1ndez de c\\xc3\\xb3rdoba, c. i.a. balog, h. manyani, a. gil-serrano, j. thomas-oates, p. j. hensbergen, a. m. deelder, m.meg\\xc3\\xadas, a. a. n. van brussel. 2013. high nacl concentrations induce the nod genes of rhizobiumtropici ciat899 in the absence of flavonoid inducers. molecular plant-microbe interactions 26:4,451-460. 20.teodoro coba de la pe\\xc3\\xb1a, jos\\xc3\\xa9 j. pueyo. 2012. legumes in the reclamation of marginal soils, fromcultivar and inoculant selection to transgenic approaches. agronomy for sustainable development32:1, 65-91. 21.refik uyan\\xc3\\xb6z, \\xc3\\x9cmm\\xc3\\xbchan karaca. 2011. effects of different salt concentrations and rhizobiuminoculation (native and rhizobium tropici ciat899) on growth of dry bean (phaseolus vulgarisl.). european journal of soil biology 47:6, 387-391. 22.jonas. n. chianu, e. m. nkonya, f. s. mairura, justina. n. chianu, f. k. akinnifesi. 2011.biological nitrogen fixation and socioeconomic factors for legume production in sub-saharanafrica: a review. agronomy for sustainable development 31:1, 139-154. 23.marta s. dardanelli, hamid manyani, sergio gonz\\xc3\\xa1lez-barroso, miguel a. rodr\\xc3\\xadguez-carvajal,antonio m. gil-serrano, maria r. espuny, francisco javier l\\xc3\\xb3pez-baena, ramon a. bellog\\xc3\\xadn,manuel meg\\xc3\\xadas, francisco j. ollero. 2010. effect of the presence of the plant growth promotingrhizobacterium (pgpr) chryseobacterium balustinum aur9 and salt stress in the pattern offlavonoids exuded by soybean roots. plant and soil 328:1-2, 483-493. 24.v. mudgal, n. madaan, a. mudgal. 2010. biochemical mechanisms of salt tolerance in plants: areview. international journal of botany 6:2, 136-143. 25.marta susana dardanelli, paola solange gonz\\xc3\\xa1lez, daniela beatriz medeot, natalia soledadpaulucci, miguel \\xc3\\x81ngel bueno, mirta beatriz garcia. 2009. effects of peanut rhizobia on the growthand symbiotic performance ofarachis hypogaea under abiotic stress. symbiosis 47:3, 175-180.26.j. est\\xc3\\xa9vez, m. s. dardanelli, m. meg\\xc3\\xadas, d. n. rodr\\xc3\\xadguez-navarro. 2009. symbiotic performanceof common bean and soybean co-inoculated with rhizobia and chryseobacterium balustinum aur9under moderate saline conditions. symbiosis 49:1, 29-36. 27.m. miransari, d.l. smith. 2009. alleviating salt stress on soybean (glycine max (l.) merr.) \\xe2\\x80\\x93bradyrhizobium japonicum symbiosis, using signal molecule genistein. european journal of soilbiology 45:2, 146-152. 28.wojciech borucki, marzena sujkowska. 2008. the effects of sodium chloride-salinity upon growth,nodulation, and root nodule structure of pea (pisum sativum l.) plants. acta physiologiae plantarum30:3, 293-301. can. j. plant sci. downloaded from www.nrcresearchpress.com by 217.33.169.98 on 10/17/17for personal use only. \\x0c29.mohammed a. al-fredan .. 2006. effect of treated municipal waste water and rhizobia strainson growth and nodulation of faba bean (vicia faba l. cv. hassawi). pakistan journal of biologicalsciences 9:10, 1960-1964. 30.ilham bouhmouch, bouchra souad-mouhsine, fatiha brhada, jamal aurag. 2005. influence of hostcultivars and rhizobium species on the growth and symbiotic performance of phaseolus vulgarisunder salt stress. journal of plant physiology 162:10, 1103-1113. 31.2003. comparison of patterns of mineral ions and growth responses of 4 legume plants bynitrogen applications under saline conditions. journal of life science 13:4, 473-480. 32.n katerji, j.w van hoorn, a hamdy, m mastrorilli. 2003. salinity effect on crop developmentand yield, analysis of salt tolerance according to several classification methods. agricultural watermanagement 62:1, 37-66. 33.a. el-hamdaoui, m. redondo-nieto, r. rivilla, i. bonilla, l. bolanos.2003. effects of boron and calcium nutrition on the establishment of the rhizobiumleguminosarum-pea (pisum sativum) symbiosis and nodule development under salt stress. plant,cell and environment 26:7, 1003-1011. 34.daniel le rudulier, karine mandon, laurence dupont, jean charles trinchant. salinity effectson the physiology of soil microorganisms . 35.ping an, shinobu inanaga, yehezkel cohen, uzi kafkafi, yukihiro sugimoto. 2002. salttolerance in two soybean cultivars. journal of plant nutrition 25:3, 407-423.36.f zhang, d.l smith. interorganismal signaling in suboptimum environments: the legume-rhizobia symbiosis 125-161. 37.n. katerji, j.w. van hoorn, a. hamdy, m. mastrorilli. 2001. salt tolerance of crops according tothree classification methods and examination of some hypothesis about salt tolerance. agriculturalwater management 47:1, 1-8. 38.r.a date. 2000. inoculated legumes in cropping systems of the tropics. field crops research 65:2-3,123-136. 39.h. abdelmoumen, a. filali-maltouf, m. neyra, a. belabed, m. missbah el idrissi. 1999. effectof high salts concentrations on the growth of rhizobia and responses to added osmotica. journal ofapplied microbiology 86:6, 889-898. 40.maria del pilar cordovilla, francisco ligero, carmen lluch. 1999. effect of salinity on growth,nodulation and nitrogen assimilation in nodules of faba bean (vicia faba l.). applied soil ecology11:1, 1-7. 41.rachid serraj, jean\\xe2\\x80\\x90jacques drevon. 1998. effects of salinity and nitrogen source on growth andnitrogen fixation in alfalfa. journal of plant nutrition 21:9, 1805-1818. 42.elsiddig a e elsheikh. 1998. effects of salt on rhizobia and bradyrhizobia: a review. annalsof applied biology 132:3, 507-524. 43.katrien maria vlassak, jos vanderleyden, p. h. graham. 1997. factors influencing noduleoccupancy by inoculant rhizobia. critical reviews in plant sciences 16:2, 163-229. 44.karen j. miller, janet m. wood. 1996. osmoadaptation by rhizosphere bacteria.annual review of microbiology 50:1, 101-136. can. j. plant sci. downloaded from www.nrcresearchpress.com by 217.33.169.98 on 10/17/17for personal use only. \\x0c45.maria del pilar cordovilla, antonio oca\\xc3\\xb1a, francisco ligero, carmen lluch. 1996. growth andsymbiotic performance of faba bean inoculated with rhizobium leguminosarum biovar. viciae strainstolerant to salt. soil science and plant nutrition 42:1, 133-140. 46.m. p. cordovilla, a. oca\\xc3\\xb1a, f. ligero, c. lluch. 1995. growth and macronutrient contents of fababean plants: effects of salinity and nitrate nutrition. journal of plant nutrition 18:8, 1611-1628.47.e.a.e. elsheikh, m. wood. 1995. nodulation and n2 fixation by soybean inoculated with salt-tolerant rhizobia or salt-sensitive bradyrhizobia in saline soil. soil biology and biochemistry 27:4-5,657-661. 48.rachid serraj, gerard roy, jean jacques drevon. 1994. salt stress induces a decrease in the oxygenuptake of soybean nodules and in their permeability to oxygen diffusion. physiologia plantarum91:2, 161-168. 49.j. ikeda. 1994. the effect of short term withdrawal of nacl stress on nodulation of white clover.plant and soil 158:1, 23-27. 50.ma qifu, frank murray. 1993. effects of so2 and salinity on nitrogenase activity, nitrogenconcentration and growth of young soybean plants. environmental and experimental botany 33:4,529-537. 51.ching-te chien, josephine maundu, jeff cavaness, louise-marie dandurand, cindy s. orser.1992. characterization of salt-tolerant and salt-sensitive mutants of rhizobium leguminosarumbiovar viciae strain c1204b. fems microbiology letters 90:2, 135-140. 52.h. h. zahran. 1991. conditions for successful rhizobium-legume symbiosis in salineenvironments. biology and fertility of soils 12:1, 73-80. 53.neeru bala, p.k. sharma, k. lakshminarayana. 1990. nodulation and nitrogen fixation by salinity-tolerant rhizobia in symbiosis with tree legumes. agriculture, ecosystems & environment 33:1, 33-46.54.e.a.e. elsheikh, m. wood. 1990. salt effects on survival and multiplication of chickpea andsoybean rhizobia. soil biology and biochemistry 22:3, 343-347. 55.ranga rao velagaleti, sarah marsh. 1989. influence of host cultivars and bradyrhizobium strains onthe growth and symbiotic performance of soybean under salt stress. plant and soil 119:1, 133-138.56.jeffrey o. dawson, alan h. gibson. 1987. sensitivity of selected frankia isolates from casuarina,allocasuarina and north american host plants to sodium chloride. physiologia plantarum 70:2,272-278. 57.a.n. yousef, a.s. al-nassiri, s.k. al-azawi, n. abdul-hussain. 1987. abundance of peanutrhizobium as affected by environmental conditions in iraq. soil biology and biochemistry 19:4,391-396. 58.h. h. zahran, j. i. sprent. 1986. effects of sodium chloride and polyethylene glycol on root-hair infection and nodulation of vicia faba l. plants by rhizobium leguminosarum. planta 167:3,303-309. 59.patrice mary, daniel ochin, roger tailliez. 1986. growth status of rhizobia in relation to theirtolerance to low water activities and desiccation stresses. soil biology and biochemistry 18:2, 179-184.can. j. plant sci. downloaded from www.nrcresearchpress.com by 217.33.169.98 on 10/17/17for personal use only. \\x0c60.silvina gonzalez-rizzo, philippe laporte, martin crespi, florian frugier. legume rootarchitecture: a peculiar root system 239-287. can. j. plant sci. downloaded from www.nrcresearchpress.com by 217.33.169.98 on 10/17/17for personal use only. \\x0c'),\n",
       " ('Acknowledgments',\n",
       "  ' can. j. plant sci. downloaded from www.nrcresearchpress.com by 217.33.169.98 on 10/17/17for personal use only. \\x0ctu - effects of salinity on soybean239raggio, m. and raggio, n. 1962. rootnodules. ann. rev. plant physiol. 13: 109-128.riley, d. and barber, s. a. 1970. saltaccumulation at the soybean (glycine max (l.)merr.) root-soil interface. soil sci. soc. amer.proc. 34: 154-155.sprent, j. i. 1972. the effects of water stresson nitrogen fixing root nodules. iii. effects ofosmotically applied stress. new phytol.71:451 -460.steinborn, j. and roughley, r. j. 1915.toxicity of sodium and chloride ions torhizobium spp. in broth and peat culture. j. appl.bacteriol. 39: 133-138.subba rao, n. s., lakshmi.kumari,m., singh, c. s. and magu, s. p. 1972.nodulation of lucerne (medicago sativa l.)under the influence of sodium chloride. indian j.agric. sci. 42: 384-386.wilson, j r. andnorris, d. o. 1970. someeffects of salinity on glycine javanica and iisrhizobium symbiosis. proc. int. grassl. congr.1l:455-458.can. j. plant sci. downloaded from www.nrcresearchpress.com by 217.33.169.98 on 10/17/17for personal use only. \\x0cthis article has been cited by:1.salar farhangi-abriz, shahram torabian. 2017. biochar improved nodulation and nitrogenmetabolism of soybean under salt stress. symbiosis 38. . 2.yong song, takayuki nakajima, donghe xu, koki homma, makie kokubun. 2017. genotypicvariation in salinity tolerance and its association with nodulation and nitrogen uptake in soybean.plant production science 7, 1-9. 3.amaral machaculeha chibeba, stephen kyei-boahen, maria de f\\xc3\\xa1tima guimar\\xc3\\xa3es, marco antonionogueira, mariangela hungria. 2017. isolation, characterization and selection of indigenousbradyrhizobium strains with outstanding symbiotic performance to increase soybean yields inmozambique. agriculture, ecosystems & environment 246, 291-305. 4.sajid mahmood nadeem, muhammad yahya khan, muhammad rashid waqas, rana binyamin,sohail akhtar, zahir ahmad zahir. arbuscular mycorrhizas: an overview 1-24. 5.dilfuza egamberdieva, stephan wirth, dilfuza jabborova, leena a. r\\xc3\\xa4s\\xc3\\xa4nen, hong liao. 2017.coordination between bradyrhizobium and pseudomonas alleviates salt stress in soybean throughaltering root system architecture. journal of plant interactions 12:1, 100-107. 6.anita patil, ankit kale, gaurav ajane, rubina sheikh, surendra patil. plant growth-promotingrhizobium: mechanisms and biotechnological prospective 105-134. 7.samira r. mansour, khalid abdel-lateif, didier bogusz, claudine franche. 2016. influence of saltstress on inoculated casuarina glauca seedlings. symbiosis 70:1-3, 129-138. 8.neera garg, priyanka singla. 2016. stimulation of nitrogen fixation and trehalose biosynthesis bynaringenin (nar) and arbuscular mycorrhiza (am) in chickpea under salinity stress. plant growthregulation 80:1, 5-22. 9.mariama ngom, krystelle gray, nathalie diagne, rediet oshone, joel fardoux, hassen gherbi,val\\xc3\\xa9rie hocher, sergio svistoonoff, laurent laplaze, louis s. tisa, mame o. sy, antonychampion. 2016. symbiotic performance of diverse frankia strains on salt-stressed casuarinaglauca and casuarina equisetifolia plants. frontiers in plant science 7. . 10.sowmyalakshmi subramanian, emily ricci, alfred souleimanov, donald l. smith. 2016.a proteomic approach to lipo-chitooligosaccharide and thuricin 17 effects on soybeangerminationunstressed and salt stress. plos one 11:8, e0160660. 11.sihem tellah, mourad latati, mohamed lazali, naima ghalmi, ghania ounane, sidi mohamedounane, agostino sorgon\\xc3\\xa0, maurizio badiani. agricultural, socioeconomic, and cultural relevanceof crop wild relatives, in particular, food legume landraces, in northern africa 303-342. 12.m. miransari. use of biotechnology in soybean production under environmental stresses 1-22.13.g. yamal, ankita bidalia, krati vikram, k. s. rao. an insight into the legume\\xe2\\x80\\x93rhizobiuminteraction 359-384. 14.neha handa, renu bhardwaj, ashwani kumar thukral, saroj arora, sukhmeen kaur kohli,vandana gautam, tajinder kaur. gene pyramiding and omics approaches for stress tolerance inleguminous plants 265-283. 15.mohamed hemida abd-alla, abdel-wahab e. el-enany, magdy khalil bagy, shymaa ryhanbashandy. 2014. alleviating the inhibitory effect of salinity stress on nod gene expression incan. j. plant sci. downloaded from www.nrcresearchpress.com by 217.33.169.98 on 10/17/17for personal use only. \\x0crhizobium tibeticum \\xe2\\x80\\x93 fenugreek ( trigonella foenum graecum ) symbiosis by isoflavonoidstreatment. journal of plant interactions 9:1, 275-284. 16.i. egbichi, m. keyster, n. ludidi. 2014. effect of exogenous application of nitric oxide on saltstress responses of soybean. south african journal of botany 90, 131-136. 17.bas bruning, jelte rozema. 2013. symbiotic nitrogen fixation in legumes: perspectives for salineagriculture. environmental and experimental botany 92, 134-143. 18.m l\\xc3\\xb3pez-g\\xc3\\xb3mez, f palma, c lluch. strategies of salt tolerance in the rhizobia-legumesymbiosis 99-121. 19.b. guasch-vidal, j. est\\xc3\\xa9vez, m. s. dardanelli, m. e. soria-d\\xc3\\xadaz, f. fern\\xc3\\xa1ndez de c\\xc3\\xb3rdoba, c. i.a. balog, h. manyani, a. gil-serrano, j. thomas-oates, p. j. hensbergen, a. m. deelder, m.meg\\xc3\\xadas, a. a. n. van brussel. 2013. high nacl concentrations induce the nod genes of rhizobiumtropici ciat899 in the absence of flavonoid inducers. molecular plant-microbe interactions 26:4,451-460. 20.teodoro coba de la pe\\xc3\\xb1a, jos\\xc3\\xa9 j. pueyo. 2012. legumes in the reclamation of marginal soils, fromcultivar and inoculant selection to transgenic approaches. agronomy for sustainable development32:1, 65-91. 21.refik uyan\\xc3\\xb6z, \\xc3\\x9cmm\\xc3\\xbchan karaca. 2011. effects of different salt concentrations and rhizobiuminoculation (native and rhizobium tropici ciat899) on growth of dry bean (phaseolus vulgarisl.). european journal of soil biology 47:6, 387-391. 22.jonas. n. chianu, e. m. nkonya, f. s. mairura, justina. n. chianu, f. k. akinnifesi. 2011.biological nitrogen fixation and socioeconomic factors for legume production in sub-saharanafrica: a review. agronomy for sustainable development 31:1, 139-154. 23.marta s. dardanelli, hamid manyani, sergio gonz\\xc3\\xa1lez-barroso, miguel a. rodr\\xc3\\xadguez-carvajal,antonio m. gil-serrano, maria r. espuny, francisco javier l\\xc3\\xb3pez-baena, ramon a. bellog\\xc3\\xadn,manuel meg\\xc3\\xadas, francisco j. ollero. 2010. effect of the presence of the plant growth promotingrhizobacterium (pgpr) chryseobacterium balustinum aur9 and salt stress in the pattern offlavonoids exuded by soybean roots. plant and soil 328:1-2, 483-493. 24.v. mudgal, n. madaan, a. mudgal. 2010. biochemical mechanisms of salt tolerance in plants: areview. international journal of botany 6:2, 136-143. 25.marta susana dardanelli, paola solange gonz\\xc3\\xa1lez, daniela beatriz medeot, natalia soledadpaulucci, miguel \\xc3\\x81ngel bueno, mirta beatriz garcia. 2009. effects of peanut rhizobia on the growthand symbiotic performance ofarachis hypogaea under abiotic stress. symbiosis 47:3, 175-180.26.j. est\\xc3\\xa9vez, m. s. dardanelli, m. meg\\xc3\\xadas, d. n. rodr\\xc3\\xadguez-navarro. 2009. symbiotic performanceof common bean and soybean co-inoculated with rhizobia and chryseobacterium balustinum aur9under moderate saline conditions. symbiosis 49:1, 29-36. 27.m. miransari, d.l. smith. 2009. alleviating salt stress on soybean (glycine max (l.) merr.) \\xe2\\x80\\x93bradyrhizobium japonicum symbiosis, using signal molecule genistein. european journal of soilbiology 45:2, 146-152. 28.wojciech borucki, marzena sujkowska. 2008. the effects of sodium chloride-salinity upon growth,nodulation, and root nodule structure of pea (pisum sativum l.) plants. acta physiologiae plantarum30:3, 293-301. can. j. plant sci. downloaded from www.nrcresearchpress.com by 217.33.169.98 on 10/17/17for personal use only. \\x0c29.mohammed a. al-fredan .. 2006. effect of treated municipal waste water and rhizobia strainson growth and nodulation of faba bean (vicia faba l. cv. hassawi). pakistan journal of biologicalsciences 9:10, 1960-1964. 30.ilham bouhmouch, bouchra souad-mouhsine, fatiha brhada, jamal aurag. 2005. influence of hostcultivars and rhizobium species on the growth and symbiotic performance of phaseolus vulgarisunder salt stress. journal of plant physiology 162:10, 1103-1113. 31.2003. comparison of patterns of mineral ions and growth responses of 4 legume plants bynitrogen applications under saline conditions. journal of life science 13:4, 473-480. 32.n katerji, j.w van hoorn, a hamdy, m mastrorilli. 2003. salinity effect on crop developmentand yield, analysis of salt tolerance according to several classification methods. agricultural watermanagement 62:1, 37-66. 33.a. el-hamdaoui, m. redondo-nieto, r. rivilla, i. bonilla, l. bolanos.2003. effects of boron and calcium nutrition on the establishment of the rhizobiumleguminosarum-pea (pisum sativum) symbiosis and nodule development under salt stress. plant,cell and environment 26:7, 1003-1011. 34.daniel le rudulier, karine mandon, laurence dupont, jean charles trinchant. salinity effectson the physiology of soil microorganisms . 35.ping an, shinobu inanaga, yehezkel cohen, uzi kafkafi, yukihiro sugimoto. 2002. salttolerance in two soybean cultivars. journal of plant nutrition 25:3, 407-423.36.f zhang, d.l smith. interorganismal signaling in suboptimum environments: the legume-rhizobia symbiosis 125-161. 37.n. katerji, j.w. van hoorn, a. hamdy, m. mastrorilli. 2001. salt tolerance of crops according tothree classification methods and examination of some hypothesis about salt tolerance. agriculturalwater management 47:1, 1-8. 38.r.a date. 2000. inoculated legumes in cropping systems of the tropics. field crops research 65:2-3,123-136. 39.h. abdelmoumen, a. filali-maltouf, m. neyra, a. belabed, m. missbah el idrissi. 1999. effectof high salts concentrations on the growth of rhizobia and responses to added osmotica. journal ofapplied microbiology 86:6, 889-898. 40.maria del pilar cordovilla, francisco ligero, carmen lluch. 1999. effect of salinity on growth,nodulation and nitrogen assimilation in nodules of faba bean (vicia faba l.). applied soil ecology11:1, 1-7. 41.rachid serraj, jean\\xe2\\x80\\x90jacques drevon. 1998. effects of salinity and nitrogen source on growth andnitrogen fixation in alfalfa. journal of plant nutrition 21:9, 1805-1818. 42.elsiddig a e elsheikh. 1998. effects of salt on rhizobia and bradyrhizobia: a review. annalsof applied biology 132:3, 507-524. 43.katrien maria vlassak, jos vanderleyden, p. h. graham. 1997. factors influencing noduleoccupancy by inoculant rhizobia. critical reviews in plant sciences 16:2, 163-229. 44.karen j. miller, janet m. wood. 1996. osmoadaptation by rhizosphere bacteria.annual review of microbiology 50:1, 101-136. can. j. plant sci. downloaded from www.nrcresearchpress.com by 217.33.169.98 on 10/17/17for personal use only. \\x0c45.maria del pilar cordovilla, antonio oca\\xc3\\xb1a, francisco ligero, carmen lluch. 1996. growth andsymbiotic performance of faba bean inoculated with rhizobium leguminosarum biovar. viciae strainstolerant to salt. soil science and plant nutrition 42:1, 133-140. 46.m. p. cordovilla, a. oca\\xc3\\xb1a, f. ligero, c. lluch. 1995. growth and macronutrient contents of fababean plants: effects of salinity and nitrate nutrition. journal of plant nutrition 18:8, 1611-1628.47.e.a.e. elsheikh, m. wood. 1995. nodulation and n2 fixation by soybean inoculated with salt-tolerant rhizobia or salt-sensitive bradyrhizobia in saline soil. soil biology and biochemistry 27:4-5,657-661. 48.rachid serraj, gerard roy, jean jacques drevon. 1994. salt stress induces a decrease in the oxygenuptake of soybean nodules and in their permeability to oxygen diffusion. physiologia plantarum91:2, 161-168. 49.j. ikeda. 1994. the effect of short term withdrawal of nacl stress on nodulation of white clover.plant and soil 158:1, 23-27. 50.ma qifu, frank murray. 1993. effects of so2 and salinity on nitrogenase activity, nitrogenconcentration and growth of young soybean plants. environmental and experimental botany 33:4,529-537. 51.ching-te chien, josephine maundu, jeff cavaness, louise-marie dandurand, cindy s. orser.1992. characterization of salt-tolerant and salt-sensitive mutants of rhizobium leguminosarumbiovar viciae strain c1204b. fems microbiology letters 90:2, 135-140. 52.h. h. zahran. 1991. conditions for successful rhizobium-legume symbiosis in salineenvironments. biology and fertility of soils 12:1, 73-80. 53.neeru bala, p.k. sharma, k. lakshminarayana. 1990. nodulation and nitrogen fixation by salinity-tolerant rhizobia in symbiosis with tree legumes. agriculture, ecosystems & environment 33:1, 33-46.54.e.a.e. elsheikh, m. wood. 1990. salt effects on survival and multiplication of chickpea andsoybean rhizobia. soil biology and biochemistry 22:3, 343-347. 55.ranga rao velagaleti, sarah marsh. 1989. influence of host cultivars and bradyrhizobium strains onthe growth and symbiotic performance of soybean under salt stress. plant and soil 119:1, 133-138.56.jeffrey o. dawson, alan h. gibson. 1987. sensitivity of selected frankia isolates from casuarina,allocasuarina and north american host plants to sodium chloride. physiologia plantarum 70:2,272-278. 57.a.n. yousef, a.s. al-nassiri, s.k. al-azawi, n. abdul-hussain. 1987. abundance of peanutrhizobium as affected by environmental conditions in iraq. soil biology and biochemistry 19:4,391-396. 58.h. h. zahran, j. i. sprent. 1986. effects of sodium chloride and polyethylene glycol on root-hair infection and nodulation of vicia faba l. plants by rhizobium leguminosarum. planta 167:3,303-309. 59.patrice mary, daniel ochin, roger tailliez. 1986. growth status of rhizobia in relation to theirtolerance to low water activities and desiccation stresses. soil biology and biochemistry 18:2, 179-184.can. j. plant sci. downloaded from www.nrcresearchpress.com by 217.33.169.98 on 10/17/17for personal use only. \\x0c60.silvina gonzalez-rizzo, philippe laporte, martin crespi, florian frugier. legume rootarchitecture: a peculiar root system 239-287. can. j. plant sci. downloaded from www.nrcresearchpress.com by 217.33.169.98 on 10/17/17for personal use only. \\x0c')]"
      ]
     },
     "execution_count": 152,
     "metadata": {},
     "output_type": "execute_result"
    }
   ],
   "source": [
    "paperSplitter(pdf_as_string)"
   ]
  },
  {
   "cell_type": "code",
   "execution_count": 153,
   "metadata": {},
   "outputs": [
    {
     "name": "stdout",
     "output_type": "stream",
     "text": [
      "Start\n",
      "Materials & Methods\n",
      "Results\n",
      "Acknowledgments\n"
     ]
    }
   ],
   "source": [
    "for i in range(0,len(paperSplitter(pdf_as_string))):\n",
    "    print paperSplitter(pdf_as_string)[i][0]"
   ]
  },
  {
   "cell_type": "code",
   "execution_count": null,
   "metadata": {
    "collapsed": true
   },
   "outputs": [],
   "source": []
  }
 ],
 "metadata": {
  "kernelspec": {
   "display_name": "Python 2",
   "language": "python",
   "name": "python2"
  },
  "language_info": {
   "codemirror_mode": {
    "name": "ipython",
    "version": 2
   },
   "file_extension": ".py",
   "mimetype": "text/x-python",
   "name": "python",
   "nbconvert_exporter": "python",
   "pygments_lexer": "ipython2",
   "version": "2.7.13"
  }
 },
 "nbformat": 4,
 "nbformat_minor": 2
}
